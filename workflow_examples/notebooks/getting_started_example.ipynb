{
 "cells": [
  {
   "cell_type": "markdown",
   "id": "f6e68eab-dd47-4b78-988b-b88ba00b0b40",
   "metadata": {},
   "source": [
    "# Getting Familiar With The Sense Workflow Tool.  \n",
    "\n",
    "We use a simple config under [../getting_started/fabric-l2vpn](../getting_started/fabric-l2vpn/README.md) to create sense services \n",
    "using <i>FABRIC-L2-Net</i> profile. \n"
   ]
  },
  {
   "cell_type": "markdown",
   "id": "d67facdd-becf-4bfb-85c3-fa531f5ef782",
   "metadata": {},
   "source": [
    "## Open Sense Workflow Definition\n",
    "\n",
    "- Click to view [sense workflow definition](../getting_started/fabric-l2vpn/config.sense)\n",
    "\n",
    "The <i>count</i> is set to 1. It can be changed as needed even after having applied the workfow."
   ]
  },
  {
   "cell_type": "code",
   "execution_count": null,
   "id": "a3e9b8ff-2a29-48f8-b662-06c78649d2bd",
   "metadata": {},
   "outputs": [],
   "source": [
    "# Usage:\n",
    "\n",
    "!sense_workflow.py -h"
   ]
  },
  {
   "cell_type": "code",
   "execution_count": null,
   "id": "27e90280-5eb0-4e2d-a1d6-3d0c19e52e08",
   "metadata": {},
   "outputs": [],
   "source": [
    "# Workflows:\n",
    "\n",
    "!sense_workflow.py workflow -h"
   ]
  },
  {
   "cell_type": "code",
   "execution_count": null,
   "id": "c84d76e0-b3f9-4a97-9ec6-d655946e477c",
   "metadata": {},
   "outputs": [],
   "source": [
    "# Sessions:\n",
    "\n",
    "!sense_workflow.py sessions -h"
   ]
  },
  {
   "cell_type": "markdown",
   "id": "c6e34f8a-5794-440d-b36e-6569ec3c59a8",
   "metadata": {},
   "source": [
    "## Validate, Plan, Create, Show, Destroy"
   ]
  },
  {
   "cell_type": "code",
   "execution_count": null,
   "id": "e6d5aff1-baaa-4adc-b2a5-76da608b2537",
   "metadata": {},
   "outputs": [],
   "source": [
    "# The workflow tool uses sessions to track the workflows and their state. \n",
    "\n",
    "session_name=\"change_me\"\n",
    "experiment_path=\"../getting_started/fabric-l2vpn\""
   ]
  },
  {
   "cell_type": "code",
   "execution_count": null,
   "id": "b4ccbf25",
   "metadata": {},
   "outputs": [],
   "source": [
    "# Validate The Config.\n",
    "\n",
    "!sense_workflow.py workflow -s $session_name -c $experiment_path -validate"
   ]
  },
  {
   "cell_type": "code",
   "execution_count": null,
   "id": "44dbe6c8",
   "metadata": {},
   "outputs": [],
   "source": [
    "# View Plan.\n",
    "\n",
    "!sense_workflow.py workflow -s $session_name -c $experiment_path -plan -summary"
   ]
  },
  {
   "cell_type": "code",
   "execution_count": null,
   "id": "9284a3e8",
   "metadata": {
    "scrolled": true
   },
   "outputs": [],
   "source": [
    "# Create session\n",
    "\n",
    "# After the first apply, try incrementing/decrementing the count and apply \n",
    "# the modified workflow definition\n",
    "\n",
    "!sense_workflow.py workflow -s $session_name -c $experiment_path -apply"
   ]
  },
  {
   "cell_type": "code",
   "execution_count": null,
   "id": "011339a9",
   "metadata": {},
   "outputs": [],
   "source": [
    "# Display The State Of The Workflow. \n",
    "\n",
    "!sense_workflow.py workflow -s $session_name -c $experiment_path -show -summary"
   ]
  },
  {
   "cell_type": "code",
   "execution_count": null,
   "id": "302d23c2",
   "metadata": {},
   "outputs": [],
   "source": [
    "# Display all sessions\n",
    "\n",
    "!sense_workflow.py sessions -show"
   ]
  },
  {
   "cell_type": "code",
   "execution_count": null,
   "id": "c9fa30a4",
   "metadata": {},
   "outputs": [],
   "source": [
    "# Destroy session\n",
    "\n",
    "!sense_workflow.py workflow -s $session_name -c $experiment_path -destroy"
   ]
  },
  {
   "cell_type": "code",
   "execution_count": null,
   "id": "7e1741c6",
   "metadata": {},
   "outputs": [],
   "source": [
    "# Display all sessions\n",
    "\n",
    "!sense_workflow.py sessions -show"
   ]
  }
 ],
 "metadata": {
  "kernelspec": {
   "display_name": "Python 3 (ipykernel)",
   "language": "python",
   "name": "python3"
  },
  "language_info": {
   "codemirror_mode": {
    "name": "ipython",
    "version": 3
   },
   "file_extension": ".py",
   "mimetype": "text/x-python",
   "name": "python",
   "nbconvert_exporter": "python",
   "pygments_lexer": "ipython3",
   "version": "3.9.16"
  }
 },
 "nbformat": 4,
 "nbformat_minor": 5
}
